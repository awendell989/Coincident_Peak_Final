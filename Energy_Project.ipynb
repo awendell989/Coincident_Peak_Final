{
 "cells": [
  {
   "cell_type": "code",
   "execution_count": 1,
   "metadata": {},
   "outputs": [
    {
     "ename": "ModuleNotFoundError",
     "evalue": "No module named 'PySSC'",
     "output_type": "error",
     "traceback": [
      "\u001b[0;31m---------------------------------------------------------------------------\u001b[0m",
      "\u001b[0;31mModuleNotFoundError\u001b[0m                       Traceback (most recent call last)",
      "\u001b[0;32m<ipython-input-1-be6e5c8a36be>\u001b[0m in \u001b[0;36m<module>\u001b[0;34m\u001b[0m\n\u001b[1;32m      6\u001b[0m \u001b[0;32mfrom\u001b[0m \u001b[0mdatetime\u001b[0m \u001b[0;32mimport\u001b[0m \u001b[0mdatetime\u001b[0m\u001b[0;34m\u001b[0m\u001b[0;34m\u001b[0m\u001b[0m\n\u001b[1;32m      7\u001b[0m \u001b[0;32mfrom\u001b[0m \u001b[0msklearn\u001b[0m \u001b[0;32mimport\u001b[0m \u001b[0mpreprocessing\u001b[0m\u001b[0;34m\u001b[0m\u001b[0;34m\u001b[0m\u001b[0m\n\u001b[0;32m----> 8\u001b[0;31m \u001b[0;32mfrom\u001b[0m \u001b[0mPySSC\u001b[0m \u001b[0;32mimport\u001b[0m \u001b[0mPySSC\u001b[0m\u001b[0;34m\u001b[0m\u001b[0;34m\u001b[0m\u001b[0m\n\u001b[0m",
      "\u001b[0;31mModuleNotFoundError\u001b[0m: No module named 'PySSC'"
     ]
    }
   ],
   "source": [
    "import pandas as pd\n",
    "import urllib,json\n",
    "from pandas.io.json import json_normalize\n",
    "import os\n",
    "import inquirer\n",
    "from datetime import datetime\n",
    "from sklearn import preprocessing\n",
    "from PySSC import PySSC"
   ]
  },
  {
   "cell_type": "code",
   "execution_count": 2,
   "metadata": {},
   "outputs": [],
   "source": [
    "import matplotlib\n",
    "import numpy as np\n",
    "import matplotlib.pyplot as plt\n",
    "%matplotlib inline  "
   ]
  },
  {
   "cell_type": "code",
   "execution_count": 3,
   "metadata": {},
   "outputs": [],
   "source": [
    "def API_Reader(url):\n",
    "    request = urllib.request.Request(url)\n",
    "    response = urllib.request.urlopen(request)\n",
    "    json_load = json.loads(response.read())\n",
    "    return(json_load)"
   ]
  },
  {
   "cell_type": "code",
   "execution_count": 4,
   "metadata": {},
   "outputs": [],
   "source": [
    "eia_api_key = 'b0cbfe0b334c7c98b857879d54226b4a'\n",
    "ei_api_key = 'o8dCYVBSkm1c2tnB5YUAYsKv4iZaC8AkyPYMYSBL'"
   ]
  },
  {
   "cell_type": "markdown",
   "metadata": {},
   "source": [
    "# Dynamic Rules"
   ]
  },
  {
   "cell_type": "code",
   "execution_count": 5,
   "metadata": {},
   "outputs": [
    {
     "name": "stderr",
     "output_type": "stream",
     "text": [
      "/anaconda3/lib/python3.7/site-packages/ipykernel_launcher.py:15: FutureWarning: Sorting because non-concatenation axis is not aligned. A future version\n",
      "of pandas will change to not sort by default.\n",
      "\n",
      "To accept the future behavior, pass 'sort=False'.\n",
      "\n",
      "To retain the current behavior and silence the warning, pass 'sort=True'.\n",
      "\n",
      "  from ipykernel import kernelapp as app\n"
     ]
    }
   ],
   "source": [
    "Pay_Structure_DF = pd.DataFrame()\n",
    "y = range(0,100)\n",
    "for x in y:\n",
    "    #print(x)\n",
    "    if x == 0:\n",
    "        offset=0\n",
    "    if x ==1:\n",
    "        offset=501\n",
    "    if x>1:\n",
    "        offset=501 +((x-1)*500)\n",
    "    api_type = 'csv'\n",
    "    EI_url = 'https://api.openei.org/utility_rates?version=latest&format='+api_type+'&limit=500&sector=Industrial&detail=full&offset='+str(offset)+'&api_key=' + ei_api_key\n",
    "    EI_API_CSV = pd.read_csv(EI_url)\n",
    "    Pay_Structure_DF = pd.concat([Pay_Structure_DF,EI_API_CSV], axis=0, join='outer', ignore_index=True, keys=None,\n",
    "          levels=None, names=None, verify_integrity=False, copy=True)\n",
    "    if EI_API_CSV.shape[0] < 500:\n",
    "        break\n",
    "base_columns = ['label',\n",
    "'uri',\n",
    "'approved',\n",
    "'is_default',\n",
    "'name',\n",
    "'startdate',\n",
    "'enddate',\n",
    "'utility',\n",
    "'eiaid',\n",
    "'country',\n",
    "'sector',\n",
    "'servicetype',\n",
    "'description',\n",
    "'source',\n",
    "'sourceparent',\n",
    "'revisions']\n",
    "coincident_columns = list(EI_API_CSV.columns[EI_API_CSV.columns.str.contains('coincident')])\n",
    "needed_columns = base_columns + coincident_columns\n",
    "Coincident_DF = Pay_Structure_DF.loc[Pay_Structure_DF['coincidentrateunit'][Pay_Structure_DF['coincidentrateunit'].notna()].index,needed_columns]"
   ]
  },
  {
   "cell_type": "code",
<<<<<<< HEAD
   "execution_count": 2,
   "metadata": {},
   "outputs": [
    {
     "ename": "NameError",
     "evalue": "name 'Coincident_DF' is not defined",
     "output_type": "error",
     "traceback": [
      "\u001b[0;31m---------------------------------------------------------------------------\u001b[0m",
      "\u001b[0;31mNameError\u001b[0m                                 Traceback (most recent call last)",
      "\u001b[0;32m<ipython-input-2-5ac3e930ed4a>\u001b[0m in \u001b[0;36m<module>\u001b[0;34m\u001b[0m\n\u001b[0;32m----> 1\u001b[0;31m \u001b[0mCP_Utilities\u001b[0m \u001b[0;34m=\u001b[0m \u001b[0mCoincident_DF\u001b[0m\u001b[0;34m.\u001b[0m\u001b[0meiaid\u001b[0m\u001b[0;34m.\u001b[0m\u001b[0munique\u001b[0m\u001b[0;34m(\u001b[0m\u001b[0;34m)\u001b[0m\u001b[0;34m\u001b[0m\u001b[0;34m\u001b[0m\u001b[0m\n\u001b[0m\u001b[1;32m      2\u001b[0m \u001b[0mCP_Utilities\u001b[0m\u001b[0;34m\u001b[0m\u001b[0;34m\u001b[0m\u001b[0m\n",
      "\u001b[0;31mNameError\u001b[0m: name 'Coincident_DF' is not defined"
     ]
=======
   "execution_count": 6,
   "metadata": {},
   "outputs": [
    {
     "data": {
      "text/plain": [
       "array([ 1898,   155,  3498,  2652,  3712, 20259, 10375, 10966,  9425,\n",
       "       19396, 16226, 14711, 27422, 10669,  7370,  1179, 19499, 12293,\n",
       "       14599, 18019,  3086,   719, 16992, 17647,  6710, 16674, 19981,\n",
       "        8447, 12801, 16611, 19896, 17252, 19156,  2678, 20963, 13750,\n",
       "       19060, 11345,  7639, 19820, 12681,  5574,  5905, 17451,  3841,\n",
       "        8210, 20455,  8786,  3814, 38084, 17599, 16865, 16914, 12406,\n",
       "       13119, 18820, 14940,  5086,  6604])"
      ]
     },
     "execution_count": 6,
     "metadata": {},
     "output_type": "execute_result"
>>>>>>> parent of 6786a68... Jupyter Notebook Added
    }
   ],
   "source": [
    "CP_Utilities = Coincident_DF.eiaid.unique()\n",
    "CP_Utilities"
   ]
  },
  {
   "cell_type": "markdown",
   "metadata": {},
   "source": [
    "# Utility Rules Flat Data"
   ]
  },
  {
   "cell_type": "code",
   "execution_count": 7,
   "metadata": {},
   "outputs": [],
   "source": [
    "Utitility_Rules = pd.read_csv('https://raw.githubusercontent.com/awendell989/EIA_2018_Utiltiy_Policies/master/Dynamic_Pricing_2018_Avery.csv')\n",
    "Utitility_Rules.loc[:,Utitility_Rules.columns[Utitility_Rules.columns.str.contains('--')]] = Utitility_Rules.loc[:,Utitility_Rules.columns[Utitility_Rules.columns.str.contains('--')]].replace({'N':False,'Y':True})\n",
    "Industrial_Columns = Utitility_Rules.select_dtypes(include='bool').columns\n",
    "Industrial_Columns = Industrial_Columns[Industrial_Columns.str.contains('Industrial')]\n",
    "Utitility_Rules['Industrial_Total'] = Utitility_Rules[Industrial_Columns].sum(axis = 1)\n",
    "CP_Options = Industrial_Columns + ['Industrial_Total']"
   ]
  },
  {
   "cell_type": "code",
   "execution_count": 8,
   "metadata": {},
   "outputs": [],
   "source": [
    "Coincident_DF = Coincident_DF.merge(Utitility_Rules[['Utility Number','BA Code']],left_on = 'eiaid',right_on = 'Utility Number')"
   ]
  },
  {
   "cell_type": "code",
   "execution_count": 9,
   "metadata": {},
   "outputs": [
    {
     "name": "stdout",
     "output_type": "stream",
     "text": [
      "['MISO' 'PJM' 'WACM' 'TVA' 'CPLE' 'SOCO' 'SWPP' 'PSCO']\n"
     ]
    }
   ],
   "source": [
    "CP_BAs = Coincident_DF['BA Code'].unique()\n",
    "print(CP_BAs)"
   ]
  },
  {
   "cell_type": "markdown",
   "metadata": {},
   "source": [
    "# Load Figures"
   ]
  },
  {
   "cell_type": "code",
   "execution_count": 10,
   "metadata": {},
   "outputs": [],
   "source": [
    "#https://www.eia.gov/beta/electricity/gridmonitor/dashboard/electric_overview/US48/US48\n",
    "\n",
    "demand_total_url = 'http://api.eia.gov/category/?api_key=b0cbfe0b334c7c98b857879d54226b4a&category_id=2122628'\n",
    "json_load = API_Reader(demand_total_url)\n",
    "Categories = pd.DataFrame(json_load['category']['childcategories'])"
   ]
  },
  {
   "cell_type": "code",
   "execution_count": 11,
   "metadata": {
    "scrolled": true
   },
   "outputs": [
    {
     "name": "stdout",
     "output_type": "stream",
     "text": [
      "Arizona Public Service Company (AZPS) added!\n",
      "Associated Electric Cooperative, Inc. (AECI) added!\n",
      "Avista Corporation (AVA) added!\n",
      "Balancing Authority of Northern California (BANC) added!\n",
      "Bonneville Power Administration (BPAT) added!\n",
      "California Independent System Operator (CISO) added!\n",
      "City of Homestead (HST) added!\n",
      "City of Tacoma, Department of Public Utilities, Light Division (TPWR) added!\n",
      "City of Tallahassee (TAL) added!\n",
      "Duke Energy Carolinas (DUK) added!\n",
      "Duke Energy Florida, Inc. (FPC) added!\n",
      "Duke Energy Progress East (CPLE) added!\n",
      "Duke Energy Progress West (CPLW) added!\n",
      "El Paso Electric Company (EPE) added!\n",
      "Electric Reliability Council of Texas, Inc. (ERCO) added!\n",
      "Florida Municipal Power Pool (FMPP) added!\n",
      "Florida Power & Light Co. (FPL) added!\n",
      "Gainesville Regional Utilities (GVL) added!\n",
      "ISO New England (ISNE) added!\n",
      "Idaho Power Company (IPCO) added!\n",
      "Imperial Irrigation District (IID) added!\n",
      "JEA (JEA) added!\n",
      "Los Angeles Department of Water and Power (LDWP) added!\n",
      "Louisville Gas and Electric Company and Kentucky Utilities Company (LGEE) added!\n",
      "Midcontinent Independent System Operator, Inc. (MISO) added!\n",
      "Nevada Power Company (NEVP) added!\n",
      "New York Independent System Operator (NYIS) added!\n",
      "NorthWestern Corporation (NWMT) added!\n",
      "Ohio Valley Electric Corporation (OVEC) added!\n",
      "PJM Interconnection, LLC (PJM) added!\n",
      "PUD No. 1 of Douglas County (DOPD) added!\n",
      "PacifiCorp East (PACE) added!\n",
      "PacifiCorp West (PACW) added!\n",
      "Portland General Electric Company (PGE) added!\n",
      "PowerSouth Energy Cooperative (AEC) added!\n",
      "Public Service Company of Colorado (PSCO) added!\n",
      "Public Service Company of New Mexico (PNM) added!\n",
      "Public Utility District No. 1 of Chelan County (CHPD) added!\n",
      "Public Utility District No. 2 of Grant County, Washington (GCPD) added!\n",
      "Puget Sound Energy, Inc. (PSEI) added!\n",
      "Salt River Project Agricultural Improvement and Power District (SRP) added!\n",
      "Seattle City Light (SCL) added!\n",
      "Seminole Electric Cooperative (SEC) added!\n",
      "South Carolina Electric & Gas Company (SCEG) added!\n",
      "South Carolina Public Service Authority (SC) added!\n",
      "Southern Company Services, Inc. - Trans (SOCO) added!\n",
      "Southwest Power Pool (SWPP) added!\n",
      "Southwestern Power Administration (SPA) added!\n",
      "Tampa Electric Company (TEC) added!\n",
      "Tennessee Valley Authority (TVA) added!\n",
      "Tucson Electric Power (TEPC) added!\n",
      "Turlock Irrigation District (TIDC) added!\n",
      "Utilities Commission of New Smyrna Beach (NSB) added!\n",
      "Western Area Power Administration - Desert Southwest Region (WALC) added!\n",
      "Western Area Power Administration - Rocky Mountain Region (WACM) added!\n",
      "Western Area Power Administration - Upper Great Plains West (WAUW) added!\n"
     ]
    }
   ],
   "source": [
    "Demand_Data_Total = pd.DataFrame(columns = ['UTC', 'MWh', 'BA', 'CID'])\n",
    "for x in range(14,max(Categories.index+1)):\n",
    "    name = Categories.iloc[x,1]\n",
    "    category_id = Categories.iloc[x,0]\n",
    "    category_url ='http://api.eia.gov/category/?api_key='+ str(eia_api_key) +'&category_id='+str(category_id)\n",
    "    BA_Data = API_Reader(category_url)\n",
    "    Series = pd.DataFrame(BA_Data['category']['childseries'])\n",
    "    Series_id = Series.loc[Series['name'].str.contains('UTC'),'series_id'][0]\n",
    "    series_url = 'https://api.eia.gov/series/?api_key='+eia_api_key+'&series_id='+str(Series_id)\n",
    "    Series_Data = API_Reader(series_url)\n",
    "    step1 = Series_Data['series'][0]\n",
    "    step2 = step1['data']\n",
    "    Columns = ['UTC','MWh']\n",
    "    DF = pd.DataFrame(step2,columns = Columns)\n",
    "    DF['BA'] = name \n",
    "    DF['CID'] = category_id\n",
    "    Demand_Data_Total = pd.concat([Demand_Data_Total,DF], axis=0, join='outer', ignore_index=True, keys=None,\n",
    "          levels=None, names=None, verify_integrity=False, copy=True)\n",
    "    print(name + ' added!')\n",
    "Demand_Data_Total['UTC'] = pd.to_datetime(Demand_Data_Total['UTC']) \n",
    "Demand_Data_Total['BA Code'] = Demand_Data_Total['BA'].apply(lambda r: r.split('(')[1].split(')')[0])"
   ]
  },
  {
   "cell_type": "code",
   "execution_count": 12,
   "metadata": {},
   "outputs": [],
   "source": [
    "Demand_Data_Total['hour'] = Demand_Data_Total['UTC'].dt.hour\n",
    "Demand_Data_Total['hour_p'] = Demand_Data_Total['UTC'].dt.hour/24\n",
    "Demand_Data_Total['month'] = Demand_Data_Total['UTC'].dt.month\n",
    "Demand_Data_Total['year'] = Demand_Data_Total['UTC'].dt.year\n",
    "Demand_Data_Total['day'] = Demand_Data_Total['UTC'].dt.day\n",
    "Demand_Data_Total['Rank'] = Demand_Data_Total.groupby(['BA','month','year'],axis = 0)['MWh'].rank(method = 'max',ascending = False)\n",
    "Demand_Data_Total['Day_Hour'] = Demand_Data_Total['day'] + Demand_Data_Total['hour_p']\n",
    "current_month = datetime.now().month\n",
    "current_year = datetime.now().year\n",
    "Demand_Data_Total = Demand_Data_Total[~((Demand_Data_Total['month'] == current_month) & (Demand_Data_Total['year'] == current_year))]\n",
    "Demand_Data_Total = Demand_Data_Total.loc[Demand_Data_Total['BA Code'].isin(CP_BAs),:]                "
   ]
  },
  {
   "cell_type": "code",
   "execution_count": 13,
   "metadata": {},
   "outputs": [
    {
     "name": "stderr",
     "output_type": "stream",
     "text": [
      "/anaconda3/lib/python3.7/site-packages/pandas/core/reshape/merge.py:522: UserWarning: merging between different levels can give an unintended result (1 levels on the left, 2 on the right)\n",
      "  warnings.warn(msg, UserWarning)\n",
      "/anaconda3/lib/python3.7/site-packages/pandas/core/generic.py:3812: PerformanceWarning: dropping on a non-lexsorted multi-index without a level parameter may impact performance.\n",
      "  new_axis = axis.drop(labels, errors=errors)\n"
     ]
    }
   ],
   "source": [
    "#Scale the Month\n",
    "\n",
    "Month_Min_Max = Demand_Data_Total.groupby(['BA','year','month'],axis = 0).agg({'MWh' : ['min','max']}).reset_index()\n",
    "Demand_Data_Total = Demand_Data_Total.merge(Month_Min_Max,on =['BA','year','month'])\n",
    "Demand_Data_Total.rename(columns = {Demand_Data_Total.columns[-1] : 'm_max',Demand_Data_Total.columns[-2] : 'm_min'},inplace = True) \n",
    "Demand_Data_Total['MWH_M_Scale'] = Demand_Data_Total.apply(lambda x: (x['MWh'] - x['m_min']) / (x['m_max'] - x['m_min']),axis = 1)"
   ]
  },
  {
   "cell_type": "code",
   "execution_count": 14,
   "metadata": {},
   "outputs": [],
   "source": [
    "Demand_Data_Total.to_csv('Demand_by_BA.csv')"
   ]
  },
  {
   "cell_type": "markdown",
   "metadata": {},
   "source": [
    "# Zipcodes"
   ]
  },
  {
   "cell_type": "code",
   "execution_count": 15,
   "metadata": {},
   "outputs": [],
   "source": [
    "U_to_Z = pd.read_csv('https://raw.githubusercontent.com/awendell989/EIA_2018_Utiltiy_Policies/master/iouzipcodes2011.csv',dtype = {'zip': str} )"
   ]
  },
  {
   "cell_type": "code",
   "execution_count": 16,
   "metadata": {},
   "outputs": [],
   "source": [
    "U_to_Z = U_to_Z.drop_duplicates(subset=['zip','eiaid'],keep = 'last').sort_values(by = 'zip')"
   ]
  },
  {
   "cell_type": "markdown",
   "metadata": {},
   "source": [
    "# Energy Production"
   ]
  },
  {
   "cell_type": "code",
   "execution_count": null,
   "metadata": {},
   "outputs": [],
   "source": [
    "ssc = PySSC()\n",
    "print ('Current folder = /Users/Avery/Desktop/Energy_Project/PySimple2')\n",
    "print ('SSC Version = ', ssc.version())\n",
    "print ('SSC Build Information = ', ssc.build_info().decode(\"utf - 8\"))\n",
    "ssc.module_exec_set_print(0)\n",
    "data = ssc.data_create()\n",
    "ssc.data_set_string( data, b'solar_resource_file', b'/Users/Avery/SAM Downloaded Weather Files/14825_42.046821_-76.618011_psmv3_60_tmy.csv' );\n",
    "ssc.data_set_number( data, b'system_capacity', 23000 )\n",
    "ssc.data_set_number( data, b'module_type', 0 )\n",
    "ssc.data_set_number( data, b'dc_ac_ratio', 1.1499999761581421 )\n",
    "ssc.data_set_number( data, b'inv_eff', 96 )\n",
    "ssc.data_set_number( data, b'losses', 14.075660705566406 )\n",
    "ssc.data_set_number( data, b'array_type', 0 )\n",
    "ssc.data_set_number( data, b'tilt', 20 )\n",
    "ssc.data_set_number( data, b'azimuth', 180 )\n",
    "ssc.data_set_number( data, b'gcr', 0.40000000596046448 )\n",
    "ssc.data_set_number( data, b'adjust:constant', 0 )\n",
    "module = ssc.module_create(b'pvwattsv5')\t\n",
    "ssc.module_exec_set_print( 0 );\n",
    "if ssc.module_exec(module, data) == 0:\n",
    "    print ('pvwattsv5 simulation error')\n",
    "    idx = 1\n",
    "    msg = ssc.module_log(module, 0)\n",
    "    while (msg != None):\n",
    "        print ('\t: ' + msg.decode(\"utf - 8\"))\n",
    "        msg = ssc.module_log(module, idx)\n",
    "        idx = idx + 1\n",
    "    SystemExit( \"Simulation Error\" );\n",
    "ssc.module_free(module)\n",
    "annual_energy = ssc.data_get_number(data, b'annual_energy');\n",
    "print ('Annual energy (year 1) = ', annual_energy)\n",
    "capacity_factor = ssc.data_get_number(data, b'capacity_factor');\n",
    "print ('Capacity factor (year 1) = ', capacity_factor)\n",
    "kwh_per_kw = ssc.data_get_number(data, b'kwh_per_kw');\n",
    "print ('Energy yield (year 1) = ', kwh_per_kw)\n",
    "hourly_data = ssc.data_get_array(data,b'gen') ###This is how to get the Hourl data\n",
    "print(hourly_data)\n",
    "ssc.data_free(data);"
   ]
  },
  {
   "cell_type": "code",
   "execution_count": null,
   "metadata": {},
   "outputs": [],
   "source": [
    "len(hourly_data)"
   ]
  },
  {
   "cell_type": "code",
   "execution_count": null,
   "metadata": {},
   "outputs": [],
   "source": []
  }
 ],
 "metadata": {
  "kernelspec": {
   "display_name": "Python 3",
   "language": "python",
   "name": "python3"
  },
  "language_info": {
   "codemirror_mode": {
    "name": "ipython",
    "version": 3
   },
   "file_extension": ".py",
   "mimetype": "text/x-python",
   "name": "python",
   "nbconvert_exporter": "python",
   "pygments_lexer": "ipython3",
   "version": "3.7.3"
  }
 },
 "nbformat": 4,
 "nbformat_minor": 2
}
