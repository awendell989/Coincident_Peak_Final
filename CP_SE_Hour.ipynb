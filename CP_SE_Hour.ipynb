{
 "cells": [
  {
   "cell_type": "code",
   "execution_count": 4,
   "metadata": {},
   "outputs": [
    {
     "ename": "ModuleNotFoundError",
     "evalue": "No module named 'PySAM'",
     "output_type": "error",
     "traceback": [
      "\u001b[0;31m---------------------------------------------------------------------------\u001b[0m",
      "\u001b[0;31mModuleNotFoundError\u001b[0m                       Traceback (most recent call last)",
      "\u001b[0;32m<ipython-input-4-526d03ceabf5>\u001b[0m in \u001b[0;36m<module>\u001b[0;34m\u001b[0m\n\u001b[1;32m      6\u001b[0m \u001b[0;32mfrom\u001b[0m \u001b[0mdatetime\u001b[0m \u001b[0;32mimport\u001b[0m \u001b[0mdatetime\u001b[0m\u001b[0;34m\u001b[0m\u001b[0;34m\u001b[0m\u001b[0m\n\u001b[1;32m      7\u001b[0m \u001b[0;32mfrom\u001b[0m \u001b[0msklearn\u001b[0m \u001b[0;32mimport\u001b[0m \u001b[0mpreprocessing\u001b[0m\u001b[0;34m\u001b[0m\u001b[0;34m\u001b[0m\u001b[0m\n\u001b[0;32m----> 8\u001b[0;31m \u001b[0;32mfrom\u001b[0m \u001b[0mPySAM\u001b[0m\u001b[0;34m.\u001b[0m\u001b[0mPySSC\u001b[0m \u001b[0;32mimport\u001b[0m \u001b[0mPySSC\u001b[0m\u001b[0;34m\u001b[0m\u001b[0;34m\u001b[0m\u001b[0m\n\u001b[0m",
      "\u001b[0;31mModuleNotFoundError\u001b[0m: No module named 'PySAM'"
     ]
    }
   ],
   "source": [
    "import pandas as pd\n",
    "import urllib,json\n",
    "from pandas.io.json import json_normalize\n",
    "import os\n",
    "import inquirer\n",
    "from datetime import datetime\n",
    "from sklearn import preprocessing\n",
    "from PySAM.PySSC import PySSC"
   ]
  },
  {
   "cell_type": "code",
   "execution_count": 5,
   "metadata": {},
   "outputs": [],
   "source": [
    "import matplotlib\n",
    "import numpy as np\n",
    "import matplotlib.pyplot as plt\n",
    "%matplotlib inline  \n",
    "from time import strptime\n",
    "import calendar"
   ]
  },
  {
   "cell_type": "code",
   "execution_count": 6,
   "metadata": {},
   "outputs": [],
   "source": [
    "def API_Reader(url):\n",
    "    request = urllib.request.Request(url)\n",
    "    response = urllib.request.urlopen(request)\n",
    "    json_load = json.loads(response.read())\n",
    "    return(json_load)"
   ]
  },
  {
   "cell_type": "code",
   "execution_count": 7,
   "metadata": {},
   "outputs": [],
   "source": [
    "eia_api_key = 'b0cbfe0b334c7c98b857879d54226b4a'\n",
    "ei_api_key = 'o8dCYVBSkm1c2tnB5YUAYsKv4iZaC8AkyPYMYSBL'"
   ]
  },
  {
   "cell_type": "markdown",
   "metadata": {},
   "source": [
    "# Rate Pull"
   ]
  },
  {
   "cell_type": "code",
   "execution_count": 8,
   "metadata": {},
   "outputs": [
    {
     "name": "stdout",
     "output_type": "stream",
     "text": [
      "0\n",
      "1\n",
      "2\n",
      "3\n",
      "4\n",
      "5\n",
      "6\n",
      "7\n",
      "8\n",
      "9\n",
      "10\n",
      "11\n",
      "12\n",
      "13\n",
      "14\n",
      "15\n",
      "16\n",
      "17\n",
      "18\n",
      "19\n"
     ]
    }
   ],
   "source": [
    "Pay_Structure_DF = pd.DataFrame()\n",
    "y = range(0,100)\n",
    "for x in y:\n",
    "    print(x),\n",
    "    if x == 0:\n",
    "        offset=0\n",
    "    if x ==1:\n",
    "        offset=501\n",
    "    if x>1:\n",
    "        offset=501 +((x-1)*500)\n",
    "    api_type = 'csv'\n",
    "    EI_url = 'https://api.openei.org/utility_rates?version=latest&format='+api_type+'&limit=500&sector=Industrial&detail=full&offset='+str(offset)+'&api_key=' + ei_api_key\n",
    "    EI_API_CSV = pd.read_csv(EI_url)\n",
    "    Pay_Structure_DF = pd.concat([Pay_Structure_DF,EI_API_CSV], axis=0, join='outer', ignore_index=True, keys=None,levels=None, names=None, verify_integrity=False, copy=True)\n",
    "    if EI_API_CSV.shape[0] < 500:\n",
    "            break\n",
    "Pay_Structure_DF.to_csv('Pay_Structure.csv')"
   ]
  },
  {
   "cell_type": "code",
   "execution_count": 16,
   "metadata": {},
   "outputs": [
    {
     "data": {
      "text/plain": [
       "(150, 309)"
      ]
     },
     "execution_count": 16,
     "metadata": {},
     "output_type": "execute_result"
    }
   ],
   "source": [
    "base_columns = ['label','uri',\n",
    "    'approved',\n",
    "    'is_default',\n",
    "    'name',\n",
    "    'startdate',\n",
    "    'enddate',\n",
    "    'utility',\n",
    "    'eiaid',\n",
    "    'country',\n",
    "    'sector',\n",
    "    'servicetype',\n",
    "    'description',\n",
    "    'source',\n",
    "    'sourceparent',\n",
    "    'revisions']\n",
    "coincident_columns = list(Pay_Structure_DF.columns[Pay_Structure_DF.columns.str.contains('coincident')])# + ['coincidentratestructure/period2/tier0rate']\n",
    "needed_columns = base_columns + coincident_columns\n",
    "Coincident_DF = Pay_Structure_DF.loc[Pay_Structure_DF['coincidentrateunit'][Pay_Structure_DF['coincidentrateunit'].notna()].index,needed_columns ]\n",
    "Coincident_DF.reset_index(inplace = True,drop = True)\n",
    "Coincident_DF.shape"
   ]
  },
  {
   "cell_type": "code",
   "execution_count": 28,
   "metadata": {},
   "outputs": [
    {
     "data": {
      "text/plain": [
       "(43200, 23)"
      ]
     },
     "execution_count": 28,
     "metadata": {},
     "output_type": "execute_result"
    }
   ],
   "source": [
    "coincidentschedulecolumns = Coincident_DF.columns[Coincident_DF.columns.str.contains('coincidentschedule')]\n",
    "id_columns = [x for x in needed_columns if x not in coincidentschedulecolumns]\n",
    "Coincident_DF_Schedule = pd.melt(Coincident_DF,id_vars = id_columns,value_vars = coincidentschedulecolumns,var_name = 'month_hour',value_name = 'schedule')\n",
    "Coincident_DF_Schedule.shape"
   ]
  },
  {
   "cell_type": "code",
   "execution_count": 29,
   "metadata": {},
   "outputs": [],
   "source": [
    "Coincident_DF_Schedule['month'] = Coincident_DF_Schedule.month_hour.str.split('_').str[1]\n",
    "Coincident_DF_Schedule['hour'] = Coincident_DF_Schedule.month_hour.str.split('_').str[2]\n",
    "d= {'jan':1, 'feb':2, 'mar':3, 'apr':4, 'may':5, 'jun':6, 'jul':7, 'aug':8, 'sep':9,\n",
    "       'oct':10, 'nov':11, 'dec':12}\n",
    "Coincident_DF_Schedule['month'].replace(d,inplace = True)"
   ]
  },
  {
   "cell_type": "code",
   "execution_count": 30,
   "metadata": {},
   "outputs": [],
   "source": [
    "Coincident_DF_Schedule.loc[Coincident_DF_Schedule['schedule'] == 0,'price'] = Coincident_DF_Schedule['coincidentratestructure/period0/tier0rate']\n",
    "Coincident_DF_Schedule.loc[Coincident_DF_Schedule['schedule'] == 1,'price'] = Coincident_DF_Schedule['coincidentratestructure/period1/tier0rate']\n",
    "Coincident_DF_Schedule.loc[Coincident_DF_Schedule['schedule'] == 2,'price'] = Coincident_DF_Schedule['coincidentratestructure/period2/tier0rate']\n",
    "Coincident_DF_Schedule.hour = Coincident_DF_Schedule.hour.astype(int)\n",
    "Coincident_DF_Schedule.month = Coincident_DF_Schedule.month.astype(int)\n",
    "Coincident_DF_Schedule.sort_values(by = ['utility','month','hour'],inplace = True)\n",
    "Coincident_DF_Schedule.reset_index(inplace = True,drop = True)\n",
    "CP_Utilities = Coincident_DF.eiaid.unique()"
   ]
  },
  {
   "cell_type": "code",
   "execution_count": 31,
   "metadata": {},
   "outputs": [
    {
     "data": {
      "text/plain": [
       "array(['Access Energy Coop', 'Agralite Electric Coop',\n",
       "       'Bangor Hydro-Electric Co', 'Bon Homme Yankton El Assn, Inc',\n",
       "       'Butler County Rural Elec Coop', 'C & L Electric Coop Corp',\n",
       "       'Carroll County REMC', 'Chippewa Valley Electric Coop',\n",
       "       'City of Clintonville, Wisconsin (Utility Company)',\n",
       "       'City of Fort Collins, Colorado (Utility Company)',\n",
       "       'City of Gonzales, Texas (Utility Company)',\n",
       "       'City of Lexington, North Carolina (Utility Company)',\n",
       "       'City of Memphis, Tennessee (Utility Company)',\n",
       "       'City of Monroe, North Carolina (Utility Company)',\n",
       "       'City of Murfreesboro, Tennessee (Utility Company)',\n",
       "       'City of Rocky Mount, North Carolina (Utility Company)',\n",
       "       'City of Stanton, Iowa (Utility Company)',\n",
       "       'City of Thief River Falls, Minnesota (Utility Company)',\n",
       "       'City of Volga, South Dakota (Utility Company)',\n",
       "       'City of Webster City, Iowa (Utility Company)',\n",
       "       'Clay County Electric Coop Corp', 'Coast Electric Power Assn',\n",
       "       'Delta Montrose Electric Assn', 'East Central Energy',\n",
       "       'Excelsior Electric Member Corp', 'Great Lakes Energy Coop',\n",
       "       'Greenville Utilities Comm', 'Hart Electric Member Corp',\n",
       "       'Hendricks County Rural E M C', 'Horry Electric Coop Inc',\n",
       "       'Iowa Lakes Electric Coop', 'Kiwash Electric Coop, Inc',\n",
       "       'Lyon-Lincoln Electric Coop Inc', 'Miami-Cass County Rural E M C',\n",
       "       'Mississippi County Electric Coop', 'Northern Electric Coop, Inc',\n",
       "       'PECO Energy Co', 'Paulding-Putman Elec Coop, Inc',\n",
       "       'Pennsylvania Electric Co (Pennsylvania)',\n",
       "       'Powder River Energy Corporation',\n",
       "       'Satilla Rural Elec Member Corporation',\n",
       "       'Sawnee Electric Membership Corporation',\n",
       "       'Singing River Elec Pwr Assn (Mississippi)',\n",
       "       'Southeastern Indiana R E M C', 'Southern Pine Elec Power Assn',\n",
       "       'Stearns Cooperative Elec Assn', 'Todd-Wadena Electric Coop',\n",
       "       'Town of Apex, North Carolina (Utility Company)',\n",
       "       'Town of Edenton, North Carolina (Utility Company)',\n",
       "       'Town of Landis, North Carolina (Utility Company)',\n",
       "       'Town of Selma, North Carolina (Utility Company)',\n",
       "       'Town of Smithfield, North Carolina (Utility Company)',\n",
       "       'Traverse Electric Coop, Inc',\n",
       "       'Tri-County Electric Coop (Michigan)', 'United Power, Inc',\n",
       "       'Victory Electric Coop Assn Inc', 'Wake Electric Membership Corp',\n",
       "       'Western Massachusetts Elec Co', 'Woodruff Electric Coop Corp'],\n",
       "      dtype=object)"
      ]
     },
     "execution_count": 31,
     "metadata": {},
     "output_type": "execute_result"
    }
   ],
   "source": [
    "len(Coincident_DF_Schedule.utility.unique())\n",
    "Coincident_DF_Schedule['utility'].unique()"
   ]
  },
  {
   "cell_type": "markdown",
   "metadata": {},
   "source": [
    "# Utility Rules"
   ]
  },
  {
   "cell_type": "code",
   "execution_count": 32,
   "metadata": {},
   "outputs": [],
   "source": [
    "Utitility_Rules = pd.read_csv('https://raw.githubusercontent.com/awendell989/EIA_2018_Utiltiy_Policies/master/Dynamic_Pricing_2018_Avery.csv')\n",
    "Utitility_Rules.loc[:,Utitility_Rules.columns[Utitility_Rules.columns.str.contains('--')]] = Utitility_Rules.loc[:,Utitility_Rules.columns[Utitility_Rules.columns.str.contains('--')]].replace({'N':False,'Y':True})\n",
    "Industrial_Columns = Utitility_Rules.select_dtypes(include='bool').columns\n",
    "Industrial_Columns = Industrial_Columns[Industrial_Columns.str.contains('Industrial')]\n",
    "Utitility_Rules['Industrial_Total'] = Utitility_Rules[Industrial_Columns].sum(axis = 1)\n",
    "CP_Options = Industrial_Columns + ['Industrial_Total']"
   ]
  },
  {
   "cell_type": "code",
   "execution_count": 33,
   "metadata": {},
   "outputs": [
    {
     "data": {
      "text/html": [
       "<div>\n",
       "<style scoped>\n",
       "    .dataframe tbody tr th:only-of-type {\n",
       "        vertical-align: middle;\n",
       "    }\n",
       "\n",
       "    .dataframe tbody tr th {\n",
       "        vertical-align: top;\n",
       "    }\n",
       "\n",
       "    .dataframe thead th {\n",
       "        text-align: right;\n",
       "    }\n",
       "</style>\n",
       "<table border=\"1\" class=\"dataframe\">\n",
       "  <thead>\n",
       "    <tr style=\"text-align: right;\">\n",
       "      <th></th>\n",
       "      <th>Data Year</th>\n",
       "      <th>Utility Number</th>\n",
       "      <th>Utility Name</th>\n",
       "      <th>State</th>\n",
       "      <th>BA Code</th>\n",
       "      <th>Residential -- Number of Customers Enrolled</th>\n",
       "      <th>Commercial -- Number of Customers Enrolled</th>\n",
       "      <th>Industrial -- Number of Customers Enrolled</th>\n",
       "      <th>Transportation -- Number of Customers Enrolled</th>\n",
       "      <th>Total -- Number of Customers Enrolled</th>\n",
       "      <th>...</th>\n",
       "      <th>Transportation -- Variable Peak Pricing</th>\n",
       "      <th>Residential -- Critical Peak Pricing</th>\n",
       "      <th>Commercial -- Critical Peak Pricing</th>\n",
       "      <th>Industrial -- Critical Peak Pricing</th>\n",
       "      <th>Transportation -- Critical Peak Pricing</th>\n",
       "      <th>Residential -- Critical Peak Rebate</th>\n",
       "      <th>Commercial -- Critical Peak Rebate</th>\n",
       "      <th>Industrial -- Critical Peak Rebate</th>\n",
       "      <th>Transportation -- Critical Peak Rebate</th>\n",
       "      <th>Industrial_Total</th>\n",
       "    </tr>\n",
       "  </thead>\n",
       "  <tbody>\n",
       "    <tr>\n",
       "      <th>0</th>\n",
       "      <td>2018</td>\n",
       "      <td>3503</td>\n",
       "      <td>Choptank Electric Coop, Inc</td>\n",
       "      <td>MD</td>\n",
       "      <td>PJM</td>\n",
       "      <td>0</td>\n",
       "      <td>213</td>\n",
       "      <td>9</td>\n",
       "      <td>.</td>\n",
       "      <td>222</td>\n",
       "      <td>...</td>\n",
       "      <td>False</td>\n",
       "      <td>False</td>\n",
       "      <td>True</td>\n",
       "      <td>True</td>\n",
       "      <td>False</td>\n",
       "      <td>False</td>\n",
       "      <td>False</td>\n",
       "      <td>False</td>\n",
       "      <td>False</td>\n",
       "      <td>2</td>\n",
       "    </tr>\n",
       "    <tr>\n",
       "      <th>1</th>\n",
       "      <td>2018</td>\n",
       "      <td>7027</td>\n",
       "      <td>City of Gastonia - (NC)</td>\n",
       "      <td>NC</td>\n",
       "      <td>DUK</td>\n",
       "      <td>0</td>\n",
       "      <td>37</td>\n",
       "      <td>12</td>\n",
       "      <td>0</td>\n",
       "      <td>49</td>\n",
       "      <td>...</td>\n",
       "      <td>False</td>\n",
       "      <td>False</td>\n",
       "      <td>True</td>\n",
       "      <td>True</td>\n",
       "      <td>False</td>\n",
       "      <td>False</td>\n",
       "      <td>False</td>\n",
       "      <td>False</td>\n",
       "      <td>False</td>\n",
       "      <td>2</td>\n",
       "    </tr>\n",
       "    <tr>\n",
       "      <th>2</th>\n",
       "      <td>2018</td>\n",
       "      <td>108</td>\n",
       "      <td>Adams-Columbia Electric Coop</td>\n",
       "      <td>WI</td>\n",
       "      <td>MISO</td>\n",
       "      <td>835</td>\n",
       "      <td>939</td>\n",
       "      <td>9</td>\n",
       "      <td>.</td>\n",
       "      <td>1,783</td>\n",
       "      <td>...</td>\n",
       "      <td>False</td>\n",
       "      <td>False</td>\n",
       "      <td>True</td>\n",
       "      <td>True</td>\n",
       "      <td>False</td>\n",
       "      <td>False</td>\n",
       "      <td>False</td>\n",
       "      <td>False</td>\n",
       "      <td>False</td>\n",
       "      <td>3</td>\n",
       "    </tr>\n",
       "    <tr>\n",
       "      <th>3</th>\n",
       "      <td>2018</td>\n",
       "      <td>7264</td>\n",
       "      <td>Glades Electric Coop, Inc</td>\n",
       "      <td>FL</td>\n",
       "      <td>SEC</td>\n",
       "      <td>3</td>\n",
       "      <td>3,421</td>\n",
       "      <td>21</td>\n",
       "      <td>.</td>\n",
       "      <td>3,445</td>\n",
       "      <td>...</td>\n",
       "      <td>False</td>\n",
       "      <td>False</td>\n",
       "      <td>True</td>\n",
       "      <td>True</td>\n",
       "      <td>False</td>\n",
       "      <td>False</td>\n",
       "      <td>True</td>\n",
       "      <td>False</td>\n",
       "      <td>False</td>\n",
       "      <td>2</td>\n",
       "    </tr>\n",
       "    <tr>\n",
       "      <th>4</th>\n",
       "      <td>2018</td>\n",
       "      <td>7801</td>\n",
       "      <td>Gulf Power Co</td>\n",
       "      <td>FL</td>\n",
       "      <td>SOCO</td>\n",
       "      <td>20,116</td>\n",
       "      <td>1,020</td>\n",
       "      <td>91</td>\n",
       "      <td>0</td>\n",
       "      <td>21,227</td>\n",
       "      <td>...</td>\n",
       "      <td>False</td>\n",
       "      <td>True</td>\n",
       "      <td>True</td>\n",
       "      <td>True</td>\n",
       "      <td>False</td>\n",
       "      <td>False</td>\n",
       "      <td>False</td>\n",
       "      <td>False</td>\n",
       "      <td>False</td>\n",
       "      <td>3</td>\n",
       "    </tr>\n",
       "  </tbody>\n",
       "</table>\n",
       "<p>5 rows × 31 columns</p>\n",
       "</div>"
      ],
      "text/plain": [
       "   Data Year  Utility Number                  Utility Name State BA Code  \\\n",
       "0       2018            3503   Choptank Electric Coop, Inc    MD     PJM   \n",
       "1       2018            7027       City of Gastonia - (NC)    NC     DUK   \n",
       "2       2018             108  Adams-Columbia Electric Coop    WI    MISO   \n",
       "3       2018            7264     Glades Electric Coop, Inc    FL     SEC   \n",
       "4       2018            7801                 Gulf Power Co    FL    SOCO   \n",
       "\n",
       "  Residential -- Number of Customers Enrolled  \\\n",
       "0                                           0   \n",
       "1                                           0   \n",
       "2                                         835   \n",
       "3                                           3   \n",
       "4                                      20,116   \n",
       "\n",
       "  Commercial -- Number of Customers Enrolled  \\\n",
       "0                                        213   \n",
       "1                                         37   \n",
       "2                                        939   \n",
       "3                                      3,421   \n",
       "4                                      1,020   \n",
       "\n",
       "  Industrial -- Number of Customers Enrolled  \\\n",
       "0                                          9   \n",
       "1                                         12   \n",
       "2                                          9   \n",
       "3                                         21   \n",
       "4                                         91   \n",
       "\n",
       "  Transportation -- Number of Customers Enrolled  \\\n",
       "0                                              .   \n",
       "1                                              0   \n",
       "2                                              .   \n",
       "3                                              .   \n",
       "4                                              0   \n",
       "\n",
       "  Total -- Number of Customers Enrolled  ...  \\\n",
       "0                                   222  ...   \n",
       "1                                    49  ...   \n",
       "2                                 1,783  ...   \n",
       "3                                 3,445  ...   \n",
       "4                                21,227  ...   \n",
       "\n",
       "   Transportation -- Variable Peak Pricing  \\\n",
       "0                                    False   \n",
       "1                                    False   \n",
       "2                                    False   \n",
       "3                                    False   \n",
       "4                                    False   \n",
       "\n",
       "  Residential -- Critical Peak Pricing  Commercial -- Critical Peak Pricing  \\\n",
       "0                                False                                 True   \n",
       "1                                False                                 True   \n",
       "2                                False                                 True   \n",
       "3                                False                                 True   \n",
       "4                                 True                                 True   \n",
       "\n",
       "   Industrial -- Critical Peak Pricing  \\\n",
       "0                                 True   \n",
       "1                                 True   \n",
       "2                                 True   \n",
       "3                                 True   \n",
       "4                                 True   \n",
       "\n",
       "   Transportation -- Critical Peak Pricing  \\\n",
       "0                                    False   \n",
       "1                                    False   \n",
       "2                                    False   \n",
       "3                                    False   \n",
       "4                                    False   \n",
       "\n",
       "   Residential -- Critical Peak Rebate  Commercial -- Critical Peak Rebate  \\\n",
       "0                                False                               False   \n",
       "1                                False                               False   \n",
       "2                                False                               False   \n",
       "3                                False                                True   \n",
       "4                                False                               False   \n",
       "\n",
       "   Industrial -- Critical Peak Rebate  Transportation -- Critical Peak Rebate  \\\n",
       "0                               False                                   False   \n",
       "1                               False                                   False   \n",
       "2                               False                                   False   \n",
       "3                               False                                   False   \n",
       "4                               False                                   False   \n",
       "\n",
       "   Industrial_Total  \n",
       "0                 2  \n",
       "1                 2  \n",
       "2                 3  \n",
       "3                 2  \n",
       "4                 3  \n",
       "\n",
       "[5 rows x 31 columns]"
      ]
     },
     "execution_count": 33,
     "metadata": {},
     "output_type": "execute_result"
    }
   ],
   "source": [
    "Utitility_Rules.head()"
   ]
  },
  {
   "cell_type": "code",
   "execution_count": 34,
   "metadata": {},
   "outputs": [],
   "source": [
    "#Coincident_DF = Coincident_DF.merge(Utitility_Rules[['Utility Number','BA Code']],left_on = 'eiaid',right_on = 'Utility Number')\n",
    "Coincident_DF_Schedule_Full = Coincident_DF_Schedule.merge(Utitility_Rules[['Utility Number','BA Code']],left_on = 'eiaid',right_on = 'Utility Number')\n",
    "CP_BAs = Coincident_DF_Schedule_Full['BA Code'].unique()"
   ]
  },
  {
   "cell_type": "code",
   "execution_count": 35,
   "metadata": {},
   "outputs": [
    {
     "data": {
      "text/plain": [
       "20"
      ]
     },
     "execution_count": 35,
     "metadata": {},
     "output_type": "execute_result"
    }
   ],
   "source": [
    "len(Coincident_DF_Schedule_Full.eiaid.unique())"
   ]
  },
  {
   "cell_type": "markdown",
   "metadata": {},
   "source": [
    "# Demand Data"
   ]
  },
  {
   "cell_type": "code",
   "execution_count": 36,
   "metadata": {},
   "outputs": [],
   "source": [
    "demand_total_url = 'http://api.eia.gov/category/?api_key=b0cbfe0b334c7c98b857879d54226b4a&category_id=2122628'\n",
    "json_load = API_Reader(demand_total_url)\n",
    "Categories = pd.DataFrame(json_load['category']['childcategories'])\n",
    "Categories['BA_Code'] = Categories['name'].apply(lambda r: r.split('(')[1].split(')')[0])"
   ]
  },
  {
   "cell_type": "code",
   "execution_count": 37,
   "metadata": {
    "scrolled": true
   },
   "outputs": [
    {
     "data": {
      "text/html": [
       "<div>\n",
       "<style scoped>\n",
       "    .dataframe tbody tr th:only-of-type {\n",
       "        vertical-align: middle;\n",
       "    }\n",
       "\n",
       "    .dataframe tbody tr th {\n",
       "        vertical-align: top;\n",
       "    }\n",
       "\n",
       "    .dataframe thead th {\n",
       "        text-align: right;\n",
       "    }\n",
       "</style>\n",
       "<table border=\"1\" class=\"dataframe\">\n",
       "  <thead>\n",
       "    <tr style=\"text-align: right;\">\n",
       "      <th></th>\n",
       "      <th>category_id</th>\n",
       "      <th>name</th>\n",
       "      <th>BA_Code</th>\n",
       "    </tr>\n",
       "  </thead>\n",
       "  <tbody>\n",
       "    <tr>\n",
       "      <th>0</th>\n",
       "      <td>3389963</td>\n",
       "      <td>Duke Energy Progress East (CPLE)</td>\n",
       "      <td>CPLE</td>\n",
       "    </tr>\n",
       "    <tr>\n",
       "      <th>1</th>\n",
       "      <td>3389980</td>\n",
       "      <td>Midcontinent Independent System Operator, Inc....</td>\n",
       "      <td>MISO</td>\n",
       "    </tr>\n",
       "    <tr>\n",
       "      <th>2</th>\n",
       "      <td>3389988</td>\n",
       "      <td>PJM Interconnection, LLC (PJM)</td>\n",
       "      <td>PJM</td>\n",
       "    </tr>\n",
       "    <tr>\n",
       "      <th>3</th>\n",
       "      <td>3389994</td>\n",
       "      <td>Public Service Company of Colorado (PSCO)</td>\n",
       "      <td>PSCO</td>\n",
       "    </tr>\n",
       "    <tr>\n",
       "      <th>4</th>\n",
       "      <td>3390005</td>\n",
       "      <td>Southern Company Services, Inc. - Trans (SOCO)</td>\n",
       "      <td>SOCO</td>\n",
       "    </tr>\n",
       "    <tr>\n",
       "      <th>5</th>\n",
       "      <td>3390006</td>\n",
       "      <td>Southwest Power Pool (SWPP)</td>\n",
       "      <td>SWPP</td>\n",
       "    </tr>\n",
       "    <tr>\n",
       "      <th>6</th>\n",
       "      <td>3390009</td>\n",
       "      <td>Tennessee Valley Authority (TVA)</td>\n",
       "      <td>TVA</td>\n",
       "    </tr>\n",
       "    <tr>\n",
       "      <th>7</th>\n",
       "      <td>3390014</td>\n",
       "      <td>Western Area Power Administration - Rocky Moun...</td>\n",
       "      <td>WACM</td>\n",
       "    </tr>\n",
       "  </tbody>\n",
       "</table>\n",
       "</div>"
      ],
      "text/plain": [
       "   category_id                                               name BA_Code\n",
       "0      3389963                   Duke Energy Progress East (CPLE)    CPLE\n",
       "1      3389980  Midcontinent Independent System Operator, Inc....    MISO\n",
       "2      3389988                     PJM Interconnection, LLC (PJM)     PJM\n",
       "3      3389994          Public Service Company of Colorado (PSCO)    PSCO\n",
       "4      3390005     Southern Company Services, Inc. - Trans (SOCO)    SOCO\n",
       "5      3390006                        Southwest Power Pool (SWPP)    SWPP\n",
       "6      3390009                   Tennessee Valley Authority (TVA)     TVA\n",
       "7      3390014  Western Area Power Administration - Rocky Moun...    WACM"
      ]
     },
     "execution_count": 37,
     "metadata": {},
     "output_type": "execute_result"
    }
   ],
   "source": [
    "Categories = Categories.loc[Categories['BA_Code'].isin(CP_BAs),:].reset_index(drop = True)\n",
    "Categories"
   ]
  },
  {
   "cell_type": "code",
   "execution_count": 38,
   "metadata": {
    "scrolled": true
   },
   "outputs": [
    {
     "name": "stdout",
     "output_type": "stream",
     "text": [
      "Duke Energy Progress East (CPLE) added!\n",
      "Midcontinent Independent System Operator, Inc. (MISO) added!\n",
      "PJM Interconnection, LLC (PJM) added!\n",
      "Public Service Company of Colorado (PSCO) added!\n",
      "Southern Company Services, Inc. - Trans (SOCO) added!\n",
      "Southwest Power Pool (SWPP) added!\n",
      "Tennessee Valley Authority (TVA) added!\n",
      "Western Area Power Administration - Rocky Mountain Region (WACM) added!\n"
     ]
    }
   ],
   "source": [
    "Demand_Data_Total = pd.DataFrame(columns = ['UTC', 'MWh', 'BA', 'CID'])\n",
    "for x in range(0,max(Categories.index+1)):\n",
    "    name = Categories.iloc[x,1]\n",
    "    category_id = Categories.iloc[x,0]\n",
    "    category_url ='http://api.eia.gov/category/?api_key='+ str(eia_api_key) +'&category_id='+str(category_id)\n",
    "    BA_Data = API_Reader(category_url)\n",
    "    Series = pd.DataFrame(BA_Data['category']['childseries'])\n",
    "    Series_id = Series.loc[Series['name'].str.contains('UTC'),'series_id'][0]\n",
    "    series_url = 'https://api.eia.gov/series/?api_key='+eia_api_key+'&series_id='+str(Series_id)\n",
    "    Series_Data = API_Reader(series_url)\n",
    "    step1 = Series_Data['series'][0]\n",
    "    step2 = step1['data']\n",
    "    Columns = ['UTC','MWh']\n",
    "    DF = pd.DataFrame(step2,columns = Columns)\n",
    "    DF['BA'] = name\n",
    "    DF['CID'] = category_id\n",
    "    Demand_Data_Total = pd.concat([Demand_Data_Total,DF], axis=0, join='outer', ignore_index=True, keys=None,levels=None, names=None, verify_integrity=False, copy=True)\n",
    "    print(name + ' added!')\n",
    "    Demand_Data_Total['UTC'] = pd.to_datetime(Demand_Data_Total['UTC'],utc=True) #Is this True DOh?\n",
    "    Demand_Data_Total['BA Code'] = Demand_Data_Total['BA'].apply(lambda r: r.split('(')[1].split(')')[0])"
   ]
  },
  {
   "cell_type": "code",
   "execution_count": 39,
   "metadata": {},
   "outputs": [],
   "source": [
    "Demand_Data_Total['hour'] = Demand_Data_Total['UTC'].dt.hour\n",
    "Demand_Data_Total['hour_p'] = Demand_Data_Total['UTC'].dt.hour/24\n",
    "Demand_Data_Total['month'] = Demand_Data_Total['UTC'].dt.month\n",
    "Demand_Data_Total['year'] = Demand_Data_Total['UTC'].dt.year\n",
    "Demand_Data_Total['day'] = Demand_Data_Total['UTC'].dt.day\n",
    "Demand_Data_Total['Rank'] = Demand_Data_Total.groupby(['BA','month','year'],axis = 0)['MWh'].rank(method = 'max',ascending = False)\n",
    "Demand_Data_Total['Day_Hour'] = Demand_Data_Total['day'] + Demand_Data_Total['hour_p']\n",
    "current_month = datetime.now().month\n",
    "current_year = datetime.now().year\n",
    "Demand_Data_Total = Demand_Data_Total[~((Demand_Data_Total['month'] == current_month) & (Demand_Data_Total['year'] == current_year))]\n",
    "Demand_Data_Total = Demand_Data_Total.loc[Demand_Data_Total['BA Code'].isin(CP_BAs),:]"
   ]
  },
  {
   "cell_type": "code",
   "execution_count": 40,
   "metadata": {},
   "outputs": [
    {
     "name": "stderr",
     "output_type": "stream",
     "text": [
      "/opt/anaconda3/lib/python3.7/site-packages/pandas/core/reshape/merge.py:643: UserWarning: merging between different levels can give an unintended result (1 levels on the left,2 on the right)\n",
      "  warnings.warn(msg, UserWarning)\n",
      "/opt/anaconda3/lib/python3.7/site-packages/pandas/core/generic.py:3878: PerformanceWarning: dropping on a non-lexsorted multi-index without a level parameter may impact performance.\n",
      "  obj = obj._drop_axis(labels, axis, level=level, errors=errors)\n"
     ]
    }
   ],
   "source": [
    "Month_Min_Max = Demand_Data_Total.groupby(['BA','year','month'],axis = 0).agg({'MWh' : ['min','max']}).reset_index()\n",
    "Demand_Data_Total = Demand_Data_Total.merge(Month_Min_Max,on =['BA','year','month'])\n",
    "Demand_Data_Total.rename(columns = {Demand_Data_Total.columns[-1] : 'm_max',Demand_Data_Total.columns[-2] : 'm_min'},inplace = True)\n",
    "Demand_Data_Total['MWH_M_Scale'] = Demand_Data_Total.apply(lambda x: (x['MWh'] - x['m_min']) / (x['m_max'] - x['m_min']),axis = 1)"
   ]
  },
  {
   "cell_type": "code",
   "execution_count": 41,
   "metadata": {},
   "outputs": [],
   "source": [
    "Demand_Data_Total = Demand_Data_Total.loc[~((Demand_Data_Total['month'] == 2) & (Demand_Data_Total['day'] == 29)) ,]\n",
    "Time_DF = Demand_Data_Total.groupby(['month','day','hour']).size().reset_index().drop(0,axis =1)"
   ]
  },
  {
   "cell_type": "code",
   "execution_count": 42,
   "metadata": {},
   "outputs": [],
   "source": [
    "Demand_Data_Total.to_csv('Demand_by_BA.csv')"
   ]
  },
  {
   "cell_type": "code",
   "execution_count": 43,
   "metadata": {},
   "outputs": [
    {
     "name": "stderr",
     "output_type": "stream",
     "text": [
      "/opt/anaconda3/lib/python3.7/site-packages/ipykernel_launcher.py:2: FutureWarning: Indexing with multiple keys (implicitly converted to a tuple of keys) will be deprecated, use a list instead.\n",
      "  \n"
     ]
    },
    {
     "data": {
      "text/html": [
       "<div>\n",
       "<style scoped>\n",
       "    .dataframe tbody tr th:only-of-type {\n",
       "        vertical-align: middle;\n",
       "    }\n",
       "\n",
       "    .dataframe tbody tr th {\n",
       "        vertical-align: top;\n",
       "    }\n",
       "\n",
       "    .dataframe thead th {\n",
       "        text-align: right;\n",
       "    }\n",
       "</style>\n",
       "<table border=\"1\" class=\"dataframe\">\n",
       "  <thead>\n",
       "    <tr style=\"text-align: right;\">\n",
       "      <th></th>\n",
       "      <th>BA</th>\n",
       "      <th>BA Code</th>\n",
       "      <th>CID</th>\n",
       "      <th>month</th>\n",
       "      <th>hour</th>\n",
       "      <th>MWH_M_Scale</th>\n",
       "      <th>MWh</th>\n",
       "    </tr>\n",
       "  </thead>\n",
       "  <tbody>\n",
       "    <tr>\n",
       "      <th>0</th>\n",
       "      <td>Duke Energy Progress East (CPLE)</td>\n",
       "      <td>CPLE</td>\n",
       "      <td>3389963</td>\n",
       "      <td>1</td>\n",
       "      <td>0</td>\n",
       "      <td>0.439112</td>\n",
       "      <td>8085.116129</td>\n",
       "    </tr>\n",
       "    <tr>\n",
       "      <th>1</th>\n",
       "      <td>Duke Energy Progress East (CPLE)</td>\n",
       "      <td>CPLE</td>\n",
       "      <td>3389963</td>\n",
       "      <td>1</td>\n",
       "      <td>1</td>\n",
       "      <td>0.444427</td>\n",
       "      <td>8130.135484</td>\n",
       "    </tr>\n",
       "    <tr>\n",
       "      <th>2</th>\n",
       "      <td>Duke Energy Progress East (CPLE)</td>\n",
       "      <td>CPLE</td>\n",
       "      <td>3389963</td>\n",
       "      <td>1</td>\n",
       "      <td>2</td>\n",
       "      <td>0.439408</td>\n",
       "      <td>8089.987097</td>\n",
       "    </tr>\n",
       "    <tr>\n",
       "      <th>3</th>\n",
       "      <td>Duke Energy Progress East (CPLE)</td>\n",
       "      <td>CPLE</td>\n",
       "      <td>3389963</td>\n",
       "      <td>1</td>\n",
       "      <td>3</td>\n",
       "      <td>0.415967</td>\n",
       "      <td>7896.367742</td>\n",
       "    </tr>\n",
       "    <tr>\n",
       "      <th>4</th>\n",
       "      <td>Duke Energy Progress East (CPLE)</td>\n",
       "      <td>CPLE</td>\n",
       "      <td>3389963</td>\n",
       "      <td>1</td>\n",
       "      <td>4</td>\n",
       "      <td>0.377323</td>\n",
       "      <td>7576.845161</td>\n",
       "    </tr>\n",
       "  </tbody>\n",
       "</table>\n",
       "</div>"
      ],
      "text/plain": [
       "                                 BA BA Code      CID  month  hour  \\\n",
       "0  Duke Energy Progress East (CPLE)    CPLE  3389963      1     0   \n",
       "1  Duke Energy Progress East (CPLE)    CPLE  3389963      1     1   \n",
       "2  Duke Energy Progress East (CPLE)    CPLE  3389963      1     2   \n",
       "3  Duke Energy Progress East (CPLE)    CPLE  3389963      1     3   \n",
       "4  Duke Energy Progress East (CPLE)    CPLE  3389963      1     4   \n",
       "\n",
       "   MWH_M_Scale          MWh  \n",
       "0     0.439112  8085.116129  \n",
       "1     0.444427  8130.135484  \n",
       "2     0.439408  8089.987097  \n",
       "3     0.415967  7896.367742  \n",
       "4     0.377323  7576.845161  "
      ]
     },
     "execution_count": 43,
     "metadata": {},
     "output_type": "execute_result"
    }
   ],
   "source": [
    "#Demand_Data_Total_Agg = Demand_Data_Total.groupby(['BA', 'BA Code', 'CID','month','day','hour','Day_Hour'])['MWH_M_Scale','MWh'].sum()\n",
    "Demand_Data_Total_Agg = Demand_Data_Total.groupby(['BA', 'BA Code', 'CID','month','hour'])['MWH_M_Scale','MWh'].mean()\n",
    "Demand_Data_Total_Agg.reset_index(inplace = True)\n",
    "Demand_Data_Total_Agg.head()"
   ]
  },
  {
   "cell_type": "markdown",
   "metadata": {},
   "source": [
    "# Merge to Rate Schedule"
   ]
  },
  {
   "cell_type": "code",
   "execution_count": 44,
   "metadata": {},
   "outputs": [],
   "source": [
    "Demand_Rate_Schedule = Demand_Data_Total_Agg.merge(Coincident_DF_Schedule_Full, how='right', left_on=['month','hour','BA Code'], right_on=['month','hour','BA Code'])\n",
    "Demand_Rate_Schedule = Demand_Rate_Schedule[['BA Code','utility','eiaid','name','month','hour','MWh','MWH_M_Scale','schedule','price']].sort_values(by =['BA Code','utility','eiaid','name','month','hour'] ).reset_index(drop = True)"
   ]
  },
  {
   "cell_type": "code",
   "execution_count": 45,
   "metadata": {},
   "outputs": [],
   "source": [
    "Demand_Rate_Schedule.to_csv('Demand_Rate_Schedule.csv',index = False)"
   ]
  },
  {
   "cell_type": "code",
   "execution_count": 46,
   "metadata": {},
   "outputs": [
    {
     "data": {
      "text/plain": [
       "20"
      ]
     },
     "execution_count": 46,
     "metadata": {},
     "output_type": "execute_result"
    }
   ],
   "source": [
    "len(Demand_Rate_Schedule.eiaid.unique())"
   ]
  },
  {
   "cell_type": "markdown",
   "metadata": {},
   "source": [
    "# Zipcodes"
   ]
  },
  {
   "cell_type": "code",
   "execution_count": 47,
   "metadata": {},
   "outputs": [],
   "source": [
    "U_to_Z_I = pd.read_csv('iouzipcodes2011.csv',dtype = {'zip': str})\n",
    "U_to_Z_NI = pd.read_csv('noniouzipcodes2011.csv',dtype = {'zip': str})"
   ]
  },
  {
   "cell_type": "code",
   "execution_count": 48,
   "metadata": {},
   "outputs": [],
   "source": [
    "#Concat And Run\n",
    "\n",
    "U_to_Z = pd.concat([U_to_Z_I,U_to_Z_NI])\n",
    "U_to_Z = U_to_Z.drop_duplicates(subset=['zip','eiaid'],keep = 'last').sort_values(by = 'zip')\n",
    "#U_to_Z_Zips = U_to_Z.loc[U_to_Z['eiaid'].isin(CP_Utilities),'zip']\n",
    "file = os.path.join(os.getcwd(),'CP_Zips.csv')\n",
    "U_to_Z.to_csv(file,index = False )"
   ]
  },
  {
   "cell_type": "code",
   "execution_count": 50,
   "metadata": {},
   "outputs": [
    {
     "data": {
      "text/html": [
       "<div>\n",
       "<style scoped>\n",
       "    .dataframe tbody tr th:only-of-type {\n",
       "        vertical-align: middle;\n",
       "    }\n",
       "\n",
       "    .dataframe tbody tr th {\n",
       "        vertical-align: top;\n",
       "    }\n",
       "\n",
       "    .dataframe thead th {\n",
       "        text-align: right;\n",
       "    }\n",
       "</style>\n",
       "<table border=\"1\" class=\"dataframe\">\n",
       "  <thead>\n",
       "    <tr style=\"text-align: right;\">\n",
       "      <th></th>\n",
       "      <th>zip</th>\n",
       "      <th>eiaid</th>\n",
       "      <th>utility_name</th>\n",
       "      <th>state</th>\n",
       "      <th>service_type</th>\n",
       "      <th>ownership</th>\n",
       "      <th>comm_rate</th>\n",
       "      <th>ind_rate</th>\n",
       "      <th>res_rate</th>\n",
       "    </tr>\n",
       "  </thead>\n",
       "  <tbody>\n",
       "    <tr>\n",
       "      <th>6819</th>\n",
       "      <td>00501</td>\n",
       "      <td>11171</td>\n",
       "      <td>Long Island Power Authority</td>\n",
       "      <td>NY</td>\n",
       "      <td>Delivery</td>\n",
       "      <td>State</td>\n",
       "      <td>0.078384</td>\n",
       "      <td>0.000000</td>\n",
       "      <td>0.200000</td>\n",
       "    </tr>\n",
       "    <tr>\n",
       "      <th>6912</th>\n",
       "      <td>00544</td>\n",
       "      <td>11171</td>\n",
       "      <td>Long Island Power Authority</td>\n",
       "      <td>NY</td>\n",
       "      <td>Delivery</td>\n",
       "      <td>State</td>\n",
       "      <td>0.078384</td>\n",
       "      <td>0.000000</td>\n",
       "      <td>0.200000</td>\n",
       "    </tr>\n",
       "    <tr>\n",
       "      <th>35987</th>\n",
       "      <td>01001</td>\n",
       "      <td>20455</td>\n",
       "      <td>Western Massachusetts Elec Co</td>\n",
       "      <td>MA</td>\n",
       "      <td>Delivery</td>\n",
       "      <td>Investor Owned</td>\n",
       "      <td>0.067246</td>\n",
       "      <td>0.050643</td>\n",
       "      <td>0.076298</td>\n",
       "    </tr>\n",
       "    <tr>\n",
       "      <th>35985</th>\n",
       "      <td>01002</td>\n",
       "      <td>20455</td>\n",
       "      <td>Western Massachusetts Elec Co</td>\n",
       "      <td>MA</td>\n",
       "      <td>Delivery</td>\n",
       "      <td>Investor Owned</td>\n",
       "      <td>0.067246</td>\n",
       "      <td>0.050643</td>\n",
       "      <td>0.076298</td>\n",
       "    </tr>\n",
       "    <tr>\n",
       "      <th>35986</th>\n",
       "      <td>01003</td>\n",
       "      <td>20455</td>\n",
       "      <td>Western Massachusetts Elec Co</td>\n",
       "      <td>MA</td>\n",
       "      <td>Delivery</td>\n",
       "      <td>Investor Owned</td>\n",
       "      <td>0.067246</td>\n",
       "      <td>0.050643</td>\n",
       "      <td>0.076298</td>\n",
       "    </tr>\n",
       "  </tbody>\n",
       "</table>\n",
       "</div>"
      ],
      "text/plain": [
       "         zip  eiaid                   utility_name state service_type  \\\n",
       "6819   00501  11171    Long Island Power Authority    NY     Delivery   \n",
       "6912   00544  11171    Long Island Power Authority    NY     Delivery   \n",
       "35987  01001  20455  Western Massachusetts Elec Co    MA     Delivery   \n",
       "35985  01002  20455  Western Massachusetts Elec Co    MA     Delivery   \n",
       "35986  01003  20455  Western Massachusetts Elec Co    MA     Delivery   \n",
       "\n",
       "            ownership  comm_rate  ind_rate  res_rate  \n",
       "6819            State   0.078384  0.000000  0.200000  \n",
       "6912            State   0.078384  0.000000  0.200000  \n",
       "35987  Investor Owned   0.067246  0.050643  0.076298  \n",
       "35985  Investor Owned   0.067246  0.050643  0.076298  \n",
       "35986  Investor Owned   0.067246  0.050643  0.076298  "
      ]
     },
     "execution_count": 50,
     "metadata": {},
     "output_type": "execute_result"
    }
   ],
   "source": [
    "U_to_Z.head()"
   ]
  },
  {
   "cell_type": "code",
   "execution_count": 51,
   "metadata": {},
   "outputs": [
    {
     "data": {
      "text/html": [
       "<div>\n",
       "<style scoped>\n",
       "    .dataframe tbody tr th:only-of-type {\n",
       "        vertical-align: middle;\n",
       "    }\n",
       "\n",
       "    .dataframe tbody tr th {\n",
       "        vertical-align: top;\n",
       "    }\n",
       "\n",
       "    .dataframe thead th {\n",
       "        text-align: right;\n",
       "    }\n",
       "</style>\n",
       "<table border=\"1\" class=\"dataframe\">\n",
       "  <thead>\n",
       "    <tr style=\"text-align: right;\">\n",
       "      <th></th>\n",
       "      <th>BA Code</th>\n",
       "      <th>utility</th>\n",
       "      <th>eiaid</th>\n",
       "      <th>name</th>\n",
       "      <th>month</th>\n",
       "      <th>hour</th>\n",
       "      <th>MWh</th>\n",
       "      <th>MWH_M_Scale</th>\n",
       "      <th>schedule</th>\n",
       "      <th>price</th>\n",
       "      <th>zip</th>\n",
       "    </tr>\n",
       "  </thead>\n",
       "  <tbody>\n",
       "    <tr>\n",
       "      <th>0</th>\n",
       "      <td>CPLE</td>\n",
       "      <td>Wake Electric Membership Corp</td>\n",
       "      <td>19981</td>\n",
       "      <td>Large General Coincident Peak Time-of-Use Service</td>\n",
       "      <td>1</td>\n",
       "      <td>0</td>\n",
       "      <td>8085.116129</td>\n",
       "      <td>0.439112</td>\n",
       "      <td>0.0</td>\n",
       "      <td>15.3</td>\n",
       "      <td>27525</td>\n",
       "    </tr>\n",
       "    <tr>\n",
       "      <th>1</th>\n",
       "      <td>CPLE</td>\n",
       "      <td>Wake Electric Membership Corp</td>\n",
       "      <td>19981</td>\n",
       "      <td>Large General Coincident Peak Time-of-Use Service</td>\n",
       "      <td>1</td>\n",
       "      <td>1</td>\n",
       "      <td>8130.135484</td>\n",
       "      <td>0.444427</td>\n",
       "      <td>0.0</td>\n",
       "      <td>15.3</td>\n",
       "      <td>27525</td>\n",
       "    </tr>\n",
       "    <tr>\n",
       "      <th>2</th>\n",
       "      <td>CPLE</td>\n",
       "      <td>Wake Electric Membership Corp</td>\n",
       "      <td>19981</td>\n",
       "      <td>Large General Coincident Peak Time-of-Use Service</td>\n",
       "      <td>1</td>\n",
       "      <td>2</td>\n",
       "      <td>8089.987097</td>\n",
       "      <td>0.439408</td>\n",
       "      <td>0.0</td>\n",
       "      <td>15.3</td>\n",
       "      <td>27525</td>\n",
       "    </tr>\n",
       "    <tr>\n",
       "      <th>3</th>\n",
       "      <td>CPLE</td>\n",
       "      <td>Wake Electric Membership Corp</td>\n",
       "      <td>19981</td>\n",
       "      <td>Large General Coincident Peak Time-of-Use Service</td>\n",
       "      <td>1</td>\n",
       "      <td>3</td>\n",
       "      <td>7896.367742</td>\n",
       "      <td>0.415967</td>\n",
       "      <td>0.0</td>\n",
       "      <td>15.3</td>\n",
       "      <td>27525</td>\n",
       "    </tr>\n",
       "    <tr>\n",
       "      <th>4</th>\n",
       "      <td>CPLE</td>\n",
       "      <td>Wake Electric Membership Corp</td>\n",
       "      <td>19981</td>\n",
       "      <td>Large General Coincident Peak Time-of-Use Service</td>\n",
       "      <td>1</td>\n",
       "      <td>4</td>\n",
       "      <td>7576.845161</td>\n",
       "      <td>0.377323</td>\n",
       "      <td>0.0</td>\n",
       "      <td>15.3</td>\n",
       "      <td>27525</td>\n",
       "    </tr>\n",
       "  </tbody>\n",
       "</table>\n",
       "</div>"
      ],
      "text/plain": [
       "  BA Code                        utility  eiaid  \\\n",
       "0    CPLE  Wake Electric Membership Corp  19981   \n",
       "1    CPLE  Wake Electric Membership Corp  19981   \n",
       "2    CPLE  Wake Electric Membership Corp  19981   \n",
       "3    CPLE  Wake Electric Membership Corp  19981   \n",
       "4    CPLE  Wake Electric Membership Corp  19981   \n",
       "\n",
       "                                                name  month  hour  \\\n",
       "0  Large General Coincident Peak Time-of-Use Service      1     0   \n",
       "1  Large General Coincident Peak Time-of-Use Service      1     1   \n",
       "2  Large General Coincident Peak Time-of-Use Service      1     2   \n",
       "3  Large General Coincident Peak Time-of-Use Service      1     3   \n",
       "4  Large General Coincident Peak Time-of-Use Service      1     4   \n",
       "\n",
       "           MWh  MWH_M_Scale  schedule  price    zip  \n",
       "0  8085.116129     0.439112       0.0   15.3  27525  \n",
       "1  8130.135484     0.444427       0.0   15.3  27525  \n",
       "2  8089.987097     0.439408       0.0   15.3  27525  \n",
       "3  7896.367742     0.415967       0.0   15.3  27525  \n",
       "4  7576.845161     0.377323       0.0   15.3  27525  "
      ]
     },
     "execution_count": 51,
     "metadata": {},
     "output_type": "execute_result"
    }
   ],
   "source": [
    "Demand_Rate_Zip_Schedule = Demand_Rate_Schedule.merge(U_to_Z[['zip','eiaid']],on ='eiaid',how ='left')\n",
    "Demand_Rate_Zip_Schedule.sort_values(by =['BA Code','utility','eiaid','name','zip','month','hour'],inplace = True)\n",
    "Demand_Rate_Zip_Schedule.dropna(inplace = True)\n",
    "Demand_Rate_Zip_Schedule.reset_index(inplace = True,drop = True)\n",
    "Demand_Rate_Zip_Schedule.head()"
   ]
  },
  {
   "cell_type": "code",
   "execution_count": 52,
   "metadata": {},
   "outputs": [
    {
     "data": {
      "text/plain": [
       "18"
      ]
     },
     "execution_count": 52,
     "metadata": {},
     "output_type": "execute_result"
    }
   ],
   "source": [
    "len(Demand_Rate_Zip_Schedule.eiaid.unique())"
   ]
  },
  {
   "cell_type": "code",
   "execution_count": 53,
   "metadata": {},
   "outputs": [],
   "source": [
    "CP_Zips = Demand_Rate_Zip_Schedule.zip.unique()"
   ]
  },
  {
   "cell_type": "markdown",
   "metadata": {},
   "source": [
    "# Solar Power"
   ]
  },
  {
   "cell_type": "code",
   "execution_count": 54,
   "metadata": {},
   "outputs": [],
   "source": [
    "Weather_Files = pd.DataFrame(os.listdir(os.path.join(os.getcwd(),'Weather_Files')),columns = ['Loc'])\n",
    "Weather_Files = pd.concat([Weather_Files,Weather_Files.Loc.str.split('_',expand = True).rename(columns = {0:'Zip',1:'Lat',2:'Long'})],axis = 1)\n",
    "Weather_Files_Zips = Weather_Files.Zip\n",
    "Zip_Daily_Hourly_Solar_Production = pd.DataFrame()"
   ]
  },
  {
   "cell_type": "code",
   "execution_count": 55,
   "metadata": {},
   "outputs": [],
   "source": [
    "Need_WF_Zips = list(set(CP_Zips) - set(Weather_Files_Zips))\n",
    "for x in Need_WF_Zips:\n",
    "    print(x)"
   ]
  },
  {
   "cell_type": "code",
   "execution_count": 56,
   "metadata": {},
   "outputs": [
    {
     "data": {
      "text/plain": [
       "645"
      ]
     },
     "execution_count": 56,
     "metadata": {},
     "output_type": "execute_result"
    }
   ],
   "source": [
    "len(CP_Zips)"
   ]
  },
  {
   "cell_type": "code",
   "execution_count": 57,
   "metadata": {},
   "outputs": [
    {
     "data": {
      "text/html": [
       "<div>\n",
       "<style scoped>\n",
       "    .dataframe tbody tr th:only-of-type {\n",
       "        vertical-align: middle;\n",
       "    }\n",
       "\n",
       "    .dataframe tbody tr th {\n",
       "        vertical-align: top;\n",
       "    }\n",
       "\n",
       "    .dataframe thead th {\n",
       "        text-align: right;\n",
       "    }\n",
       "</style>\n",
       "<table border=\"1\" class=\"dataframe\">\n",
       "  <thead>\n",
       "    <tr style=\"text-align: right;\">\n",
       "      <th></th>\n",
       "      <th>Loc</th>\n",
       "      <th>Zip</th>\n",
       "      <th>Lat</th>\n",
       "      <th>Long</th>\n",
       "      <th>3</th>\n",
       "      <th>4</th>\n",
       "      <th>5</th>\n",
       "    </tr>\n",
       "  </thead>\n",
       "  <tbody>\n",
       "    <tr>\n",
       "      <th>0</th>\n",
       "      <td>15909_40.398047_-78.866430_psmv3_60_tmy.csv</td>\n",
       "      <td>15909</td>\n",
       "      <td>40.398047</td>\n",
       "      <td>-78.866430</td>\n",
       "      <td>psmv3</td>\n",
       "      <td>60</td>\n",
       "      <td>tmy.csv</td>\n",
       "    </tr>\n",
       "    <tr>\n",
       "      <th>1</th>\n",
       "      <td>16922_41.682698_-77.701532_psmv3_60_tmy.csv</td>\n",
       "      <td>16922</td>\n",
       "      <td>41.682698</td>\n",
       "      <td>-77.701532</td>\n",
       "      <td>psmv3</td>\n",
       "      <td>60</td>\n",
       "      <td>tmy.csv</td>\n",
       "    </tr>\n",
       "    <tr>\n",
       "      <th>2</th>\n",
       "      <td>01255_42.108657_-73.120833_psmv3_60_tmy.csv</td>\n",
       "      <td>01255</td>\n",
       "      <td>42.108657</td>\n",
       "      <td>-73.120833</td>\n",
       "      <td>psmv3</td>\n",
       "      <td>60</td>\n",
       "      <td>tmy.csv</td>\n",
       "    </tr>\n",
       "    <tr>\n",
       "      <th>3</th>\n",
       "      <td>19438_40.267083_-75.388577_psmv3_60_tmy.csv</td>\n",
       "      <td>19438</td>\n",
       "      <td>40.267083</td>\n",
       "      <td>-75.388577</td>\n",
       "      <td>psmv3</td>\n",
       "      <td>60</td>\n",
       "      <td>tmy.csv</td>\n",
       "    </tr>\n",
       "    <tr>\n",
       "      <th>4</th>\n",
       "      <td>17255_40.167554_-77.867235_psmv3_60_tmy.csv</td>\n",
       "      <td>17255</td>\n",
       "      <td>40.167554</td>\n",
       "      <td>-77.867235</td>\n",
       "      <td>psmv3</td>\n",
       "      <td>60</td>\n",
       "      <td>tmy.csv</td>\n",
       "    </tr>\n",
       "    <tr>\n",
       "      <th>...</th>\n",
       "      <td>...</td>\n",
       "      <td>...</td>\n",
       "      <td>...</td>\n",
       "      <td>...</td>\n",
       "      <td>...</td>\n",
       "      <td>...</td>\n",
       "      <td>...</td>\n",
       "    </tr>\n",
       "    <tr>\n",
       "      <th>1357</th>\n",
       "      <td>16662_40.296693_-78.313891_psmv3_60_tmy.csv</td>\n",
       "      <td>16662</td>\n",
       "      <td>40.296693</td>\n",
       "      <td>-78.313891</td>\n",
       "      <td>psmv3</td>\n",
       "      <td>60</td>\n",
       "      <td>tmy.csv</td>\n",
       "    </tr>\n",
       "    <tr>\n",
       "      <th>1358</th>\n",
       "      <td>19013_39.847986_-75.374864_psmv3_60_tmy.csv</td>\n",
       "      <td>19013</td>\n",
       "      <td>39.847986</td>\n",
       "      <td>-75.374864</td>\n",
       "      <td>psmv3</td>\n",
       "      <td>60</td>\n",
       "      <td>tmy.csv</td>\n",
       "    </tr>\n",
       "    <tr>\n",
       "      <th>1359</th>\n",
       "      <td>81416_38.736655_-108.099446_psmv3_60_tmy.csv</td>\n",
       "      <td>81416</td>\n",
       "      <td>38.736655</td>\n",
       "      <td>-108.099446</td>\n",
       "      <td>psmv3</td>\n",
       "      <td>60</td>\n",
       "      <td>tmy.csv</td>\n",
       "    </tr>\n",
       "    <tr>\n",
       "      <th>1360</th>\n",
       "      <td>16403_41.793755_-80.030490_psmv3_60_tmy.csv</td>\n",
       "      <td>16403</td>\n",
       "      <td>41.793755</td>\n",
       "      <td>-80.030490</td>\n",
       "      <td>psmv3</td>\n",
       "      <td>60</td>\n",
       "      <td>tmy.csv</td>\n",
       "    </tr>\n",
       "    <tr>\n",
       "      <th>1361</th>\n",
       "      <td>19455_40.210901_-75.278285_psmv3_60_tmy.csv</td>\n",
       "      <td>19455</td>\n",
       "      <td>40.210901</td>\n",
       "      <td>-75.278285</td>\n",
       "      <td>psmv3</td>\n",
       "      <td>60</td>\n",
       "      <td>tmy.csv</td>\n",
       "    </tr>\n",
       "  </tbody>\n",
       "</table>\n",
       "<p>1362 rows × 7 columns</p>\n",
       "</div>"
      ],
      "text/plain": [
       "                                               Loc    Zip        Lat  \\\n",
       "0      15909_40.398047_-78.866430_psmv3_60_tmy.csv  15909  40.398047   \n",
       "1      16922_41.682698_-77.701532_psmv3_60_tmy.csv  16922  41.682698   \n",
       "2      01255_42.108657_-73.120833_psmv3_60_tmy.csv  01255  42.108657   \n",
       "3      19438_40.267083_-75.388577_psmv3_60_tmy.csv  19438  40.267083   \n",
       "4      17255_40.167554_-77.867235_psmv3_60_tmy.csv  17255  40.167554   \n",
       "...                                            ...    ...        ...   \n",
       "1357   16662_40.296693_-78.313891_psmv3_60_tmy.csv  16662  40.296693   \n",
       "1358   19013_39.847986_-75.374864_psmv3_60_tmy.csv  19013  39.847986   \n",
       "1359  81416_38.736655_-108.099446_psmv3_60_tmy.csv  81416  38.736655   \n",
       "1360   16403_41.793755_-80.030490_psmv3_60_tmy.csv  16403  41.793755   \n",
       "1361   19455_40.210901_-75.278285_psmv3_60_tmy.csv  19455  40.210901   \n",
       "\n",
       "             Long      3   4        5  \n",
       "0      -78.866430  psmv3  60  tmy.csv  \n",
       "1      -77.701532  psmv3  60  tmy.csv  \n",
       "2      -73.120833  psmv3  60  tmy.csv  \n",
       "3      -75.388577  psmv3  60  tmy.csv  \n",
       "4      -77.867235  psmv3  60  tmy.csv  \n",
       "...           ...    ...  ..      ...  \n",
       "1357   -78.313891  psmv3  60  tmy.csv  \n",
       "1358   -75.374864  psmv3  60  tmy.csv  \n",
       "1359  -108.099446  psmv3  60  tmy.csv  \n",
       "1360   -80.030490  psmv3  60  tmy.csv  \n",
       "1361   -75.278285  psmv3  60  tmy.csv  \n",
       "\n",
       "[1362 rows x 7 columns]"
      ]
     },
     "execution_count": 57,
     "metadata": {},
     "output_type": "execute_result"
    }
   ],
   "source": [
    "Weather_Files"
   ]
  },
  {
   "cell_type": "code",
   "execution_count": 58,
   "metadata": {},
   "outputs": [
    {
     "name": "stdout",
     "output_type": "stream",
     "text": [
      "27525\n"
     ]
    },
    {
     "ename": "NameError",
     "evalue": "name 'PySSC' is not defined",
     "output_type": "error",
     "traceback": [
      "\u001b[0;31m---------------------------------------------------------------------------\u001b[0m",
      "\u001b[0;31mNameError\u001b[0m                                 Traceback (most recent call last)",
      "\u001b[0;32m<ipython-input-58-0ea5da2454a1>\u001b[0m in \u001b[0;36m<module>\u001b[0;34m\u001b[0m\n\u001b[1;32m      3\u001b[0m     \u001b[0mLoc\u001b[0m \u001b[0;34m=\u001b[0m \u001b[0mWeather_Files\u001b[0m\u001b[0;34m.\u001b[0m\u001b[0mloc\u001b[0m\u001b[0;34m[\u001b[0m\u001b[0mWeather_Files\u001b[0m\u001b[0;34m[\u001b[0m\u001b[0;34m'Zip'\u001b[0m\u001b[0;34m]\u001b[0m \u001b[0;34m==\u001b[0m \u001b[0mm\u001b[0m\u001b[0;34m,\u001b[0m\u001b[0;34m'Loc'\u001b[0m\u001b[0;34m]\u001b[0m\u001b[0;34m.\u001b[0m\u001b[0mvalues\u001b[0m\u001b[0;34m[\u001b[0m\u001b[0;36m0\u001b[0m\u001b[0;34m]\u001b[0m\u001b[0;34m\u001b[0m\u001b[0;34m\u001b[0m\u001b[0m\n\u001b[1;32m      4\u001b[0m     \u001b[0mfile\u001b[0m \u001b[0;34m=\u001b[0m \u001b[0mos\u001b[0m\u001b[0;34m.\u001b[0m\u001b[0mpath\u001b[0m\u001b[0;34m.\u001b[0m\u001b[0mjoin\u001b[0m\u001b[0;34m(\u001b[0m\u001b[0mos\u001b[0m\u001b[0;34m.\u001b[0m\u001b[0mgetcwd\u001b[0m\u001b[0;34m(\u001b[0m\u001b[0;34m)\u001b[0m\u001b[0;34m,\u001b[0m\u001b[0;34m'Weather_Files'\u001b[0m\u001b[0;34m,\u001b[0m\u001b[0mLoc\u001b[0m\u001b[0;34m)\u001b[0m\u001b[0;34m\u001b[0m\u001b[0;34m\u001b[0m\u001b[0m\n\u001b[0;32m----> 5\u001b[0;31m     \u001b[0mssc\u001b[0m \u001b[0;34m=\u001b[0m \u001b[0mPySSC\u001b[0m\u001b[0;34m(\u001b[0m\u001b[0;34m)\u001b[0m\u001b[0;34m\u001b[0m\u001b[0;34m\u001b[0m\u001b[0m\n\u001b[0m\u001b[1;32m      6\u001b[0m     \u001b[0mprint\u001b[0m \u001b[0;34m(\u001b[0m\u001b[0;34m'Current folder = /Users/Avery/Desktop/Coincidenet_Peak_Project/PySimple2'\u001b[0m\u001b[0;34m)\u001b[0m\u001b[0;34m\u001b[0m\u001b[0;34m\u001b[0m\u001b[0m\n\u001b[1;32m      7\u001b[0m     \u001b[0mprint\u001b[0m \u001b[0;34m(\u001b[0m\u001b[0;34m'SSC Version = '\u001b[0m\u001b[0;34m,\u001b[0m \u001b[0mssc\u001b[0m\u001b[0;34m.\u001b[0m\u001b[0mversion\u001b[0m\u001b[0;34m(\u001b[0m\u001b[0;34m)\u001b[0m\u001b[0;34m)\u001b[0m\u001b[0;34m\u001b[0m\u001b[0;34m\u001b[0m\u001b[0m\n",
      "\u001b[0;31mNameError\u001b[0m: name 'PySSC' is not defined"
     ]
    }
   ],
   "source": [
    "for m in CP_Zips:\n",
    "    print(m)\n",
    "    Loc = Weather_Files.loc[Weather_Files['Zip'] == m,'Loc'].values[0]\n",
    "    file = os.path.join(os.getcwd(),'Weather_Files',Loc)\n",
    "    ssc = PySSC()\n",
    "    print ('Current folder = /Users/Avery/Desktop/Coincidenet_Peak_Project/PySimple2')\n",
    "    print ('SSC Version = ', ssc.version())\n",
    "    ssc.module_exec_set_print(0)\n",
    "    data = ssc.data_create()\n",
    "    ssc.data_set_string( data, b'solar_resource_file',str.encode(file));  #'b/Users/Avery/Desktop/Coincident_Peak_Project/Weather_Files/17302_39.810052_-76.408374_psmv3_60_tmy.csv' );\n",
    "    ssc.data_set_number( data, b'system_capacity', 10000 )\n",
    "    ssc.data_set_number( data, b'module_type', 0 )\n",
    "    ssc.data_set_number( data, b'dc_ac_ratio', 1.1499999761581421 )\n",
    "    ssc.data_set_number( data, b'inv_eff', 96 )\n",
    "    ssc.data_set_number( data, b'losses', 14.075660705566406 )\n",
    "    ssc.data_set_number( data, b'array_type', 0 )\n",
    "    ssc.data_set_number( data, b'tilt', 20 )\n",
    "    ssc.data_set_number( data, b'azimuth', 180 )\n",
    "    ssc.data_set_number( data, b'gcr', 0.40000000596046448 )\n",
    "    ssc.data_set_number( data, b'adjust:constant', 0)\n",
    "    module = ssc.module_create(b'pvwattsv5')\n",
    "    ssc.module_exec_set_print( 0 );\n",
    "    if ssc.module_exec(module, data) == 0:\n",
    "        print ('pvwattsv5 simulation error')\n",
    "        idx = 1\n",
    "        msg = ssc.module_log(module, 0)\n",
    "        while (msg != None):\n",
    "            print ('\t: ' + msg.decode(\"utf - 8\"))\n",
    "            msg = ssc.module_log(module, idx)\n",
    "            idx = idx + 1\n",
    "        SystemExit( \"Simulation Error\" );\n",
    "    ssc.module_free(module)\n",
    "    annual_energy = ssc.data_get_number(data, b'annual_energy');\n",
    "    print ('Annual energy (year 1) = ', annual_energy)\n",
    "    capacity_factor = ssc.data_get_number(data, b'capacity_factor');\n",
    "    print ('Capacity factor (year 1) = ', capacity_factor)\n",
    "    kwh_per_kw = ssc.data_get_number(data, b'kwh_per_kw');\n",
    "    print ('Energy yield (year 1) = ', kwh_per_kw)\n",
    "    hourly_data = pd.Series(ssc.data_get_array(data,b'gen'))\n",
    "    hourly_data = pd.concat([Time_DF,hourly_data],axis =  1)\n",
    "    hourly_data['zip'] = m\n",
    "    Zip_Daily_Hourly_Solar_Production = pd.concat([Zip_Daily_Hourly_Solar_Production,hourly_data],axis =0)\n",
    "Zip_Daily_Hourly_Solar_Production.rename(columns = {0:'Production'},inplace = True)"
   ]
  },
  {
   "cell_type": "code",
   "execution_count": null,
   "metadata": {},
   "outputs": [],
   "source": [
    "Zip_Daily_Hourly_Solar_Production"
   ]
  },
  {
   "cell_type": "code",
   "execution_count": null,
   "metadata": {},
   "outputs": [],
   "source": [
    "Demand Data =\n",
    "\n",
    "BA, Month, Hour (average)\n",
    "\n",
    "PV:\n",
    "\n",
    "Zip, Month, Day, Hour \n"
   ]
  },
  {
   "cell_type": "code",
   "execution_count": null,
   "metadata": {},
   "outputs": [],
   "source": [
    "Zip_Hourly_Solar_Production = Zip_Daily_Hourly_Solar_Production.groupby(['zip','month','hour'])['Production'].mean().reset_index()"
   ]
  },
  {
   "cell_type": "markdown",
   "metadata": {},
   "source": [
    "# Final Merge"
   ]
  },
  {
   "cell_type": "code",
   "execution_count": null,
   "metadata": {},
   "outputs": [],
   "source": [
    "Scheduel_Demand_Production_DF = Demand_Rate_Zip_Schedule.merge(Zip_Hourly_Solar_Production,on = ['zip','month','hour'],how = 'left')"
   ]
  },
  {
   "cell_type": "code",
   "execution_count": null,
   "metadata": {},
   "outputs": [],
   "source": [
    "Scheduel_Demand_Production_DF"
   ]
  },
  {
   "cell_type": "code",
   "execution_count": null,
   "metadata": {},
   "outputs": [],
   "source": [
    "Scheduel_Demand_Production_DF.to_csv('Scheduel_demand_Production.csv')"
   ]
  }
 ],
 "metadata": {
  "kernelspec": {
   "display_name": "Python 3",
   "language": "python",
   "name": "python3"
  },
  "language_info": {
   "codemirror_mode": {
    "name": "ipython",
    "version": 3
   },
   "file_extension": ".py",
   "mimetype": "text/x-python",
   "name": "python",
   "nbconvert_exporter": "python",
   "pygments_lexer": "ipython3",
   "version": "3.7.6"
  }
 },
 "nbformat": 4,
 "nbformat_minor": 2
}
